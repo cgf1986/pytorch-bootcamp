{
  "cells": [
    {
      "cell_type": "markdown",
      "id": "a66bbf27-9af2-42c4-aca9-bad6a1dba56b",
      "metadata": {
        "id": "a66bbf27-9af2-42c4-aca9-bad6a1dba56b"
      },
      "source": [
        "##  Goal: predicting the class of a text.\n",
        "### Task: Fine-tune a BERT model for sequence classification.\n"
      ]
    },
    {
      "cell_type": "markdown",
      "id": "6ddc12a4-4faa-40be-95bf-585b13a4ab27",
      "metadata": {
        "id": "6ddc12a4-4faa-40be-95bf-585b13a4ab27"
      },
      "source": [
        "#### BERT-HuggingFace workflow:\n",
        "#### 1- Divide your data into training and test sets.\n",
        "#### 2- Encode your data into a format BERT will understand.\n",
        "#### 3- Combine your data and labels into dataset objects.\n",
        "#### 4- Load the pre-trained BERT model.\n",
        "#### 5- Fine-tune the model using your training data.\n",
        "#### 6- Predict new labels and evaluate performance on your test data."
      ]
    },
    {
      "cell_type": "code",
      "execution_count": 1,
      "id": "786c30df-8c08-4fb8-8d30-145095c906f1",
      "metadata": {
        "colab": {
          "base_uri": "https://localhost:8080/"
        },
        "id": "786c30df-8c08-4fb8-8d30-145095c906f1",
        "outputId": "9789c5b6-eb6e-43f9-ead3-0d06d4e658e0"
      },
      "outputs": [
        {
          "output_type": "stream",
          "name": "stdout",
          "text": [
            "Looking in indexes: https://pypi.org/simple, https://us-python.pkg.dev/colab-wheels/public/simple/\n",
            "Requirement already satisfied: transformers in /usr/local/lib/python3.8/dist-packages (4.25.1)\n",
            "Requirement already satisfied: tqdm>=4.27 in /usr/local/lib/python3.8/dist-packages (from transformers) (4.64.1)\n",
            "Requirement already satisfied: pyyaml>=5.1 in /usr/local/lib/python3.8/dist-packages (from transformers) (6.0)\n",
            "Requirement already satisfied: tokenizers!=0.11.3,<0.14,>=0.11.1 in /usr/local/lib/python3.8/dist-packages (from transformers) (0.13.2)\n",
            "Requirement already satisfied: huggingface-hub<1.0,>=0.10.0 in /usr/local/lib/python3.8/dist-packages (from transformers) (0.11.1)\n",
            "Requirement already satisfied: filelock in /usr/local/lib/python3.8/dist-packages (from transformers) (3.9.0)\n",
            "Requirement already satisfied: requests in /usr/local/lib/python3.8/dist-packages (from transformers) (2.25.1)\n",
            "Requirement already satisfied: numpy>=1.17 in /usr/local/lib/python3.8/dist-packages (from transformers) (1.21.6)\n",
            "Requirement already satisfied: regex!=2019.12.17 in /usr/local/lib/python3.8/dist-packages (from transformers) (2022.6.2)\n",
            "Requirement already satisfied: packaging>=20.0 in /usr/local/lib/python3.8/dist-packages (from transformers) (21.3)\n",
            "Requirement already satisfied: typing-extensions>=3.7.4.3 in /usr/local/lib/python3.8/dist-packages (from huggingface-hub<1.0,>=0.10.0->transformers) (4.4.0)\n",
            "Requirement already satisfied: pyparsing!=3.0.5,>=2.0.2 in /usr/local/lib/python3.8/dist-packages (from packaging>=20.0->transformers) (3.0.9)\n",
            "Requirement already satisfied: chardet<5,>=3.0.2 in /usr/local/lib/python3.8/dist-packages (from requests->transformers) (4.0.0)\n",
            "Requirement already satisfied: urllib3<1.27,>=1.21.1 in /usr/local/lib/python3.8/dist-packages (from requests->transformers) (1.24.3)\n",
            "Requirement already satisfied: certifi>=2017.4.17 in /usr/local/lib/python3.8/dist-packages (from requests->transformers) (2022.12.7)\n",
            "Requirement already satisfied: idna<3,>=2.5 in /usr/local/lib/python3.8/dist-packages (from requests->transformers) (2.10)\n"
          ]
        }
      ],
      "source": [
        "!pip3 install transformers\n",
        "# !pip install gdown"
      ]
    },
    {
      "cell_type": "code",
      "execution_count": 2,
      "id": "8eea8338-1885-4ad2-a5c3-3403dd66c7d1",
      "metadata": {
        "id": "8eea8338-1885-4ad2-a5c3-3403dd66c7d1"
      },
      "outputs": [],
      "source": [
        "from collections import defaultdict\n",
        "import gdown\n",
        "import gzip\n",
        "import json\n",
        "import random\n",
        "import pickle\n",
        "\n",
        "import pandas as pd\n",
        "import numpy as np\n",
        "from sklearn.metrics import accuracy_score, precision_recall_fscore_support, classification_report\n",
        "from sklearn.feature_extraction.text import TfidfVectorizer\n",
        "from sklearn.linear_model import LogisticRegression\n",
        "import torch\n",
        "from transformers import DistilBertTokenizerFast, DistilBertForSequenceClassification\n",
        "from transformers import Trainer, TrainingArguments\n",
        "\n",
        "%matplotlib inline\n",
        "import matplotlib.pyplot as plt\n",
        "import seaborn as sns\n",
        "from matplotlib import ticker\n",
        "sns.set(style='ticks', font_scale=1.2)"
      ]
    },
    {
      "cell_type": "code",
      "source": [
        "# add shortcut to drive\n",
        "from google.colab import drive\n",
        "drive.mount('/content/drive',force_remount=True)"
      ],
      "metadata": {
        "colab": {
          "base_uri": "https://localhost:8080/"
        },
        "id": "HAOzEOZOOAHr",
        "outputId": "12472cdf-dd31-459b-e531-db649889e722"
      },
      "id": "HAOzEOZOOAHr",
      "execution_count": 4,
      "outputs": [
        {
          "output_type": "stream",
          "name": "stdout",
          "text": [
            "Mounted at /content/drive\n"
          ]
        }
      ]
    },
    {
      "cell_type": "code",
      "source": [
        "cd drive/MyDrive/Data_Goodreads"
      ],
      "metadata": {
        "colab": {
          "base_uri": "https://localhost:8080/"
        },
        "id": "9qrh0bRAON-c",
        "outputId": "e539795c-791c-4261-b1b7-5fa64251e616"
      },
      "id": "9qrh0bRAON-c",
      "execution_count": 3,
      "outputs": [
        {
          "output_type": "stream",
          "name": "stdout",
          "text": [
            "/content/drive/MyDrive/Data_Goodreads\n"
          ]
        }
      ]
    },
    {
      "cell_type": "markdown",
      "id": "e12462f9-2741-477c-8941-95b89c49d37b",
      "metadata": {
        "id": "e12462f9-2741-477c-8941-95b89c49d37b"
      },
      "source": [
        " ## Goodreads data"
      ]
    },
    {
      "cell_type": "code",
      "execution_count": null,
      "id": "a120e2bf-c09c-410a-a2c5-7fdc9e35f20b",
      "metadata": {
        "id": "a120e2bf-c09c-410a-a2c5-7fdc9e35f20b"
      },
      "outputs": [],
      "source": [
        "def load_reviews(file_name,\n",
        "                 head=None):\n",
        "\n",
        "    reviews = []\n",
        "    count = 0\n",
        "\n",
        "    with gzip.open(file_name) as file:   # gzip to unzip the downloaded JSON files \n",
        "        for line in file:\n",
        "\n",
        "            d = json.loads(line)         # json to load the JSON files once they're unzipped\n",
        "            count += 1\n",
        "\n",
        "            _book_id = d['book_id']\n",
        "\n",
        "            reviews.append(d['review_text'])\n",
        "\n",
        "            # Break if we reach the Nth line\n",
        "            if (head is not None) and (count > head):\n",
        "                break\n",
        "\n",
        "    return reviews"
      ]
    },
    {
      "cell_type": "code",
      "execution_count": null,
      "id": "51061b84-ad82-4e56-9cc4-2a66b82593f0",
      "metadata": {
        "id": "51061b84-ad82-4e56-9cc4-2a66b82593f0"
      },
      "outputs": [],
      "source": [
        "genres = ['poetry', 'children', 'comics_graphic', 'fantasy_paranormal', 'history_biography', 'mystery_thriller_crime', 'romance', 'young_adult']\n",
        "genre_reviews_dict = {}\n",
        "\n",
        "for _genre in genres:\n",
        "    print('Loading ' + _genre + '.json.gz')\n",
        "    _reviews = load_reviews(_genre + '.json.gz')\n",
        "    genre_reviews_dict[_genre] = random.sample(_reviews, 2000)"
      ]
    },
    {
      "cell_type": "code",
      "execution_count": null,
      "id": "a426dbf6-6e2c-4c80-a981-90360575d59c",
      "metadata": {
        "colab": {
          "base_uri": "https://localhost:8080/"
        },
        "id": "a426dbf6-6e2c-4c80-a981-90360575d59c",
        "outputId": "1a0fd1bd-acc5-4b3d-d9e4-90c898a64506"
      },
      "outputs": [
        {
          "output_type": "stream",
          "name": "stdout",
          "text": [
            "===========================\n",
            "poetry\n",
            "===========================\n",
            "The third time I read it. \"The Gospel according to Brady!...Brady, Brady, Almighty!\"\n",
            "\n",
            "===========================\n",
            "children\n",
            "===========================\n",
            "Originally Posted Here \n",
            " Jake and Lily have been together ever since they were babies, they experience each other's feelings and every night on their birthday the both sleepwalk to a train station. So when their parents suggest that it's time to make some friends and have their separate rooms, Lily's not happy; Jake doesn't really care. But once Jake makes some friends, he forgets about Lily, and is suddenly mean to her. Lily's alone, she has no friends to hang out with and she misses the old Jake. Will the twins ever be the same? Or together again? \n",
            " Jerry Spinelli has done it again! In his funny new novel, Mr. Spinelli gives you a story written from both Jake and Lily's point of view. Judging from the synopsis on the back, I immediately thought I would love Jake not Lily. As a matter of fact, I kept on thinking, come on Lily get a life, but towards the middle my feelings changed. I began to like Lily and loathe Jake. But I have to admit it was funny, and in some parts I kind of felt bad for Lily. \n",
            " I'd give this book five stars, along with the cover (although it could've been a little bit jazzed up). This isn't the first book I've read by Spinelli, and I've got to say, he's one of my many favorite authors. I assure you, his books are really funny. So I'm pretty sure I'm going to read more from him. Be sure to pick this one up! It's already in stores :)\n",
            "\n",
            "===========================\n",
            "comics_graphic\n",
            "===========================\n",
            "This is a wacky but really fun manga centered around a group of boys who dress like Princesses for school functions to help morale. As you might suspect, hilarity and lots of misunderstandings happen. But all in all, it's a lot of fun and I giggle more than I should while reading it.\n",
            "\n",
            "===========================\n",
            "fantasy_paranormal\n",
            "===========================\n",
            "Wasn't really the greatest story but it was enough to keep me interested in the series. \n",
            " I forsee a triangle between Dru, Graves and Christophe in the future though.\n",
            "\n",
            "===========================\n",
            "history_biography\n",
            "===========================\n",
            "Funny. Her humor is so quick-witted, yet, not as really funny as I thought it was going to be. I still love her, though. Miss her on SNL.\n",
            "\n",
            "===========================\n",
            "mystery_thriller_crime\n",
            "===========================\n",
            "My full review can be found here: \n",
            " http://samanthatule.wordpress.com/201...\n",
            "\n",
            "===========================\n",
            "romance\n",
            "===========================\n",
            "Alexis came home one day to see divorce papers on her counter. They took her completely by surprise and so did her now ex-husband, Ian, replacing her after only a week with someone 8 years younger than him, but for some reason she still loves him. Ian's whole family thinks he's an idiot and still loves Alexis. When Ian's uncle passes away, they are surprised to learn that he left his cabin to them both in his will. The catch is that they have to spend the weekend there together. \n",
            " I was fully prepared to hate this book... I thought Ian was such an incredible jerk. It drove me crazy that he played the \"poor me\" card when he moved on so fast with a new girl. I was also so mad that Alexis never stood up for herself. I really wanted her to scream at him! As the story went on, I started to warm up to both characters and really appreciate both of their personalities. The ending was so sweet. I would have liked to see Ian do something more to win her back though.\n",
            "\n",
            "===========================\n",
            "young_adult\n",
            "===========================\n",
            "Fiona Wood, and her Australian YA counterparts, are an integral part of why I continue to read YA. Many YA characters are so perfectly constructed that they become unbelievable. While this can be amusing and even entertaining, I would hardly consider it relatable. Not so with Wildlife. \n",
            " Don't be fooled by the cover, this isn't a cutesy love story. It's a story about navigating life's uncharted territories including disingenuous friends, misleading boys, and being true to who you are regardless of how popular or unpopular that might make you, all of which is fleshed out amidst outdoor camp setting. \n",
            " I was impressed with so many aspects of Wildlife from the way characters were described, the issues they grappled with, and especially how the topic of sex was addressed, unflinchingly frank and honest. \n",
            " A great read for anyone wishing for a witty, humorous, and humbling look at those final teen years.\n",
            "\n"
          ]
        }
      ],
      "source": [
        "for _genre, _reviews in genre_reviews_dict.items():\n",
        "    print('===========================')\n",
        "    print(_genre)\n",
        "    print('===========================')\n",
        "    print(random.sample(_reviews, 1)[0])\n",
        "    print()"
      ]
    },
    {
      "cell_type": "code",
      "execution_count": 4,
      "id": "c24f8657-5514-4262-b284-a5c6a8e4d988",
      "metadata": {
        "id": "c24f8657-5514-4262-b284-a5c6a8e4d988"
      },
      "outputs": [],
      "source": [
        "#pickle.dump(genre_reviews_dict, open('genre_reviews_dict.pickle', 'wb'))\n",
        "genre_reviews_dict = pickle.load(open('genre_reviews_dict.pickle', 'rb'))"
      ]
    },
    {
      "cell_type": "code",
      "source": [
        "# dictionary with key \"romance, poetry...etc\" and value = text\n",
        "print(len(genre_reviews_dict))\n",
        "genre_reviews_dict.keys()"
      ],
      "metadata": {
        "colab": {
          "base_uri": "https://localhost:8080/"
        },
        "id": "H9RHkg6eiOzE",
        "outputId": "5e26bd19-2a48-4974-aa6a-ee92af721b2f"
      },
      "id": "H9RHkg6eiOzE",
      "execution_count": 5,
      "outputs": [
        {
          "output_type": "stream",
          "name": "stdout",
          "text": [
            "8\n"
          ]
        },
        {
          "output_type": "execute_result",
          "data": {
            "text/plain": [
              "dict_keys(['poetry', 'children', 'comics_graphic', 'fantasy_paranormal', 'history_biography', 'mystery_thriller_crime', 'romance', 'young_adult'])"
            ]
          },
          "metadata": {},
          "execution_count": 5
        }
      ]
    },
    {
      "cell_type": "markdown",
      "id": "a95083f5-26df-4b51-8f95-fdec1b4979e3",
      "metadata": {
        "id": "a95083f5-26df-4b51-8f95-fdec1b4979e3"
      },
      "source": [
        "## Training and Test sets"
      ]
    },
    {
      "cell_type": "code",
      "execution_count": 6,
      "id": "27f237f9-b250-4a3f-a005-a210dee48251",
      "metadata": {
        "id": "27f237f9-b250-4a3f-a005-a210dee48251"
      },
      "outputs": [],
      "source": [
        "train_texts = []\n",
        "train_labels = []\n",
        "\n",
        "test_texts = []\n",
        "test_labels = []\n",
        "\n",
        "for _genre, _reviews in genre_reviews_dict.items():\n",
        "\n",
        "    _reviews = random.sample(_reviews, 1000) # Use a very small set as an example.\n",
        "  \n",
        "    for _review in _reviews[:800]:\n",
        "        train_texts.append(_review)\n",
        "        train_labels.append(_genre)\n",
        "    for _review in _reviews[800:]:\n",
        "        test_texts.append(_review)\n",
        "        test_labels.append(_genre)"
      ]
    },
    {
      "cell_type": "code",
      "execution_count": 7,
      "id": "aafb9d44-84c1-4cc5-83db-6c5d4764bca3",
      "metadata": {
        "colab": {
          "base_uri": "https://localhost:8080/"
        },
        "id": "aafb9d44-84c1-4cc5-83db-6c5d4764bca3",
        "outputId": "28ce62a4-db33-4eae-ed8a-f028dfe40c5b"
      },
      "outputs": [
        {
          "output_type": "stream",
          "name": "stdout",
          "text": [
            "Train set: number of texts  6400 labels 6400\n",
            "Test set: number of texts  1600 labels 1600\n"
          ]
        }
      ],
      "source": [
        "print(\"Train set: number of texts \", len(train_texts), \"labels\", len(train_labels))\n",
        "print(\"Test set: number of texts \", len(test_texts), \"labels\", len(test_labels))"
      ]
    },
    {
      "cell_type": "code",
      "execution_count": 8,
      "id": "e888eb05-c9ec-47a9-bfd9-67b891ee3af8",
      "metadata": {
        "colab": {
          "base_uri": "https://localhost:8080/"
        },
        "id": "e888eb05-c9ec-47a9-bfd9-67b891ee3af8",
        "outputId": "4c22aada-b136-4746-a3c6-17721c149736"
      },
      "outputs": [
        {
          "output_type": "execute_result",
          "data": {
            "text/plain": [
              "('poetry',\n",
              " 'This is the best so far. \\n Beat up the Poor \\n By Charles Baudelaire \\n \\'For two weeks I had shut myself up in my room, and I had surrounded myself with the books fashionable at that time (sixteen or seventeen years ago); I speak of books dealing with the art of making nations happy, wise, and rich, in twenty-four hours. I had thus digested -- swallowed, I mean -- all the ramblings of all those managers of public happiness -- of those who advise all the poor to become slaves, and those who persuade them that they are all dethroned kings. -- It will not be considered surprising that I was then in a state of mind bordering on vertigo or idiocy. \\n Yet I thought that I sensed, shut deep within my intellect, the dim seed of an idea better than all the old wives\\' formulas I had recently perused in the encyclopedia. But it was only the idea of an idea, something infinitely hazy. \\n Then I went out quite thirsty. For a passionate craving for shoddy books begets a proportional need for the open air and refreshments. \\n As I was about to enter a tavern, a beggar held out his hat, with one of those unforgettable looks that would topple thrones, if mind could move matter, and if a hypnotist\\'s eyes could ripen grapes. \\n At the same time, I heard a voice whispering in my ear, a voice I knew well; the voice of a good Angel, or of a good Demon, who accompanies me everywhere. Since Socrates had his good Demon, why shouldn\\'t I have my good Angel, why shouldn\\'t I have the honor, like Socrates, of acquiring my certificate of insanity, signed by the insightful Lelut and the sagacious Baillarger? \\n The difference between the Demon of Socrates and my own is that his would appear to him only to forbid, warn, suggest, and persuade. That poor Socrates had only a prohibitive demon; mine is a great approver, mine is a Demon of action, or Demon of combat. \\n This is what its voice whispered to me: \"He alone is equal to another, if he proves it, and he alone is worthy of freedom, if he can conquer it.\" \\n Immediately, I pounced on the beggar. With a single punch, I shut one eye, which became, in a second, as big as a ball. I broke one of my nails smashing two of his teeth, and since I didn\\'t feel strong enough to beat up the old man quickly, having been born fragile and not well trained in boxing, with one hand I grabbed him by the collar of his outfit, and I gripped his throat with the other, and I began vigorously to bounce his head against a wall. I should admit that beforehand I had examined the surroundings with a glance, and I had ascertained that in that deserted suburb, for a long enough time, I was beyond the reach of any policeman. \\n Having next, with a kick directed to his back, forceful enough to break his shoulder blades, floored that weakened sexagenarian, I grabbed a big tree branch lying on the ground, and I beat him with the obstinate energy of cooks trying to tenderize a beefsteak. \\n Suddenly, -- Oh miracle! Oh delight of the philosopher who verifies the excellence of his theory! -- I saw that antique carcass turn over, straighten up with a force I would never have suspected in a machine so peculiarly unhinged. And, with a look of hatred that seemed to me a good omen, the decrepit bandit flung himself on me, blackened both my eyes, broke four of my teeth, and, with the same tree branch beat me to a pulp. -- By my forceful medication, I had thus restored his pride and his life. \\n Then, I made a mighty number of signs to make him understand that I considered the debate settled, and getting up with the self-satisfaction of a Stoic sophist, I told him, \"Sir, you are my equal! Please do me the honor of sharing my purse. And remember, if you are a true philanthropist, you must apply to all your colleagues, when they seek alms, the theory I had the pain to test upon your back.\" \\n He indeed swore that he had understood my theory, and that he would comply with my advice.\\'')"
            ]
          },
          "metadata": {},
          "execution_count": 8
        }
      ],
      "source": [
        "train_labels[0], train_texts[0]"
      ]
    },
    {
      "cell_type": "markdown",
      "id": "0b9aa308-dcab-448e-b502-40a838a449b3",
      "metadata": {
        "id": "0b9aa308-dcab-448e-b502-40a838a449b3"
      },
      "source": [
        "## Baseline model"
      ]
    },
    {
      "cell_type": "code",
      "execution_count": 9,
      "id": "05ff33aa-6cb8-4d87-b46e-ada068cd6b27",
      "metadata": {
        "id": "05ff33aa-6cb8-4d87-b46e-ada068cd6b27"
      },
      "outputs": [],
      "source": [
        "vectorizer = TfidfVectorizer()\n",
        "X_train = vectorizer.fit_transform(train_texts)\n",
        "X_test = vectorizer.transform(test_texts)"
      ]
    },
    {
      "cell_type": "code",
      "execution_count": 10,
      "id": "b1b4a425-46a1-4d0d-8a1e-88d9fea97014",
      "metadata": {
        "id": "b1b4a425-46a1-4d0d-8a1e-88d9fea97014"
      },
      "outputs": [],
      "source": [
        "model = LogisticRegression(max_iter=1000).fit(X_train, train_labels)\n",
        "predictions = model.predict(X_test)"
      ]
    },
    {
      "cell_type": "code",
      "execution_count": 11,
      "id": "b8e2888a-3af9-4266-b233-03caf1a4f157",
      "metadata": {
        "colab": {
          "base_uri": "https://localhost:8080/"
        },
        "id": "b8e2888a-3af9-4266-b233-03caf1a4f157",
        "outputId": "ec91f43f-ea8e-46e9-e308-3db5510012c4"
      },
      "outputs": [
        {
          "output_type": "stream",
          "name": "stdout",
          "text": [
            "                        precision    recall  f1-score   support\n",
            "\n",
            "              children       0.55      0.58      0.56       200\n",
            "        comics_graphic       0.51      0.56      0.53       200\n",
            "    fantasy_paranormal       0.36      0.33      0.34       200\n",
            "     history_biography       0.50      0.42      0.46       200\n",
            "mystery_thriller_crime       0.47      0.42      0.45       200\n",
            "                poetry       0.55      0.68      0.61       200\n",
            "               romance       0.44      0.43      0.44       200\n",
            "           young_adult       0.36      0.36      0.36       200\n",
            "\n",
            "              accuracy                           0.47      1600\n",
            "             macro avg       0.47      0.47      0.47      1600\n",
            "          weighted avg       0.47      0.47      0.47      1600\n",
            "\n"
          ]
        }
      ],
      "source": [
        "print(classification_report(test_labels, predictions))"
      ]
    },
    {
      "cell_type": "markdown",
      "id": "44201d00-bbbf-47ce-bda8-43186dbacab1",
      "metadata": {
        "id": "44201d00-bbbf-47ce-bda8-43186dbacab1"
      },
      "source": [
        "## Texts and labels for BERT\n"
      ]
    },
    {
      "cell_type": "code",
      "execution_count": 12,
      "id": "4431ce86-3a08-410d-a1d4-507f636346c2",
      "metadata": {
        "id": "4431ce86-3a08-410d-a1d4-507f636346c2"
      },
      "outputs": [],
      "source": [
        "# BERT model: DistilBERT to save space (it's a distilled version of the full BERT model)\n",
        "model_name = 'distilbert-base-cased'  \n",
        "\n",
        "# Name of the program management system for NVIDIA GPUs.\n",
        "device_name = 'cuda'       \n",
        "\n",
        "# Maximum number of tokens in any document sent to BERT.\n",
        "max_length = 512                                                        \n",
        "\n",
        "# Directory where we'll save our model.\n",
        "cached_model_directory_name = '/content/drive/MyDrive/Data_Goodreads/results' "
      ]
    },
    {
      "cell_type": "code",
      "execution_count": 13,
      "id": "bd31a0b0-9672-4434-884d-e406d10ac3d4",
      "metadata": {
        "id": "bd31a0b0-9672-4434-884d-e406d10ac3d4"
      },
      "outputs": [],
      "source": [
        "# Labels turned into integers.\n",
        "# Texts needs to be truncated/padded (512 tokens).\n",
        "# Tokens separated into \"word pieces\" and matched to their embedding vectors.\n",
        "# Add special tokens: [CLS], [SEP], [PAD], [##]\n",
        "# Less frequent words will be split into two or more pieces. (prefix ##)"
      ]
    },
    {
      "cell_type": "code",
      "execution_count": 14,
      "id": "1f30a7cb-02c8-4bdc-9acc-9ffca453783a",
      "metadata": {
        "id": "1f30a7cb-02c8-4bdc-9acc-9ffca453783a"
      },
      "outputs": [],
      "source": [
        "tokenizer = DistilBertTokenizerFast.from_pretrained(model_name)"
      ]
    },
    {
      "cell_type": "markdown",
      "id": "0317f0ec-3d28-483b-a202-0bd01a355b84",
      "metadata": {
        "id": "0317f0ec-3d28-483b-a202-0bd01a355b84"
      },
      "source": [
        "### Labels"
      ]
    },
    {
      "cell_type": "code",
      "execution_count": 15,
      "id": "ccebcad0-d167-4232-9a85-18fefbcf4337",
      "metadata": {
        "id": "ccebcad0-d167-4232-9a85-18fefbcf4337"
      },
      "outputs": [],
      "source": [
        "unique_labels = set(label for label in train_labels)\n",
        "label2id = {label: id for id, label in enumerate(unique_labels)}\n",
        "id2label = {id: label for label, id in label2id.items()}"
      ]
    },
    {
      "cell_type": "code",
      "execution_count": 16,
      "id": "2a98c52d-666e-461e-ab1e-e98956a57613",
      "metadata": {
        "colab": {
          "base_uri": "https://localhost:8080/"
        },
        "id": "2a98c52d-666e-461e-ab1e-e98956a57613",
        "outputId": "49ff922b-2adc-47f3-a397-60f97af3eecc"
      },
      "outputs": [
        {
          "output_type": "execute_result",
          "data": {
            "text/plain": [
              "{'history_biography': 0,\n",
              " 'romance': 1,\n",
              " 'poetry': 2,\n",
              " 'mystery_thriller_crime': 3,\n",
              " 'fantasy_paranormal': 4,\n",
              " 'children': 5,\n",
              " 'young_adult': 6,\n",
              " 'comics_graphic': 7}"
            ]
          },
          "metadata": {},
          "execution_count": 16
        }
      ],
      "source": [
        "label2id\n",
        "# label2id.keys()\n",
        "# label2id.values()\n",
        "# label2id['poetry']"
      ]
    },
    {
      "cell_type": "code",
      "execution_count": 17,
      "id": "9989d760-7557-4e21-b69c-fa06c5b51ad6",
      "metadata": {
        "colab": {
          "base_uri": "https://localhost:8080/"
        },
        "id": "9989d760-7557-4e21-b69c-fa06c5b51ad6",
        "outputId": "eeb6dd78-9a38-4e7e-b184-8f35b0215c31"
      },
      "outputs": [
        {
          "output_type": "execute_result",
          "data": {
            "text/plain": [
              "{0: 'history_biography',\n",
              " 1: 'romance',\n",
              " 2: 'poetry',\n",
              " 3: 'mystery_thriller_crime',\n",
              " 4: 'fantasy_paranormal',\n",
              " 5: 'children',\n",
              " 6: 'young_adult',\n",
              " 7: 'comics_graphic'}"
            ]
          },
          "metadata": {},
          "execution_count": 17
        }
      ],
      "source": [
        "id2label\n",
        "#id2label.keys()\n",
        "#id2label.values()\n",
        "#id2label[0]"
      ]
    },
    {
      "cell_type": "markdown",
      "id": "d01f4c35-f1ad-4c90-bc26-eaf47a362fe1",
      "metadata": {
        "id": "d01f4c35-f1ad-4c90-bc26-eaf47a362fe1"
      },
      "source": [
        "### Encode texts and labels"
      ]
    },
    {
      "cell_type": "code",
      "execution_count": 18,
      "id": "b582bdcd-3899-45cc-8013-9f168fdf1ac7",
      "metadata": {
        "id": "b582bdcd-3899-45cc-8013-9f168fdf1ac7"
      },
      "outputs": [],
      "source": [
        "train_encodings = tokenizer(train_texts, truncation=True, padding=True, max_length=max_length)\n",
        "test_encodings  = tokenizer(test_texts, truncation=True, padding=True, max_length=max_length)\n",
        "\n",
        "train_labels_encoded = [label2id[y] for y in train_labels]\n",
        "test_labels_encoded  = [label2id[y] for y in test_labels]"
      ]
    },
    {
      "cell_type": "code",
      "execution_count": 19,
      "id": "c4b351a7-e2e3-41c6-88b4-5525e15f41db",
      "metadata": {
        "colab": {
          "base_uri": "https://localhost:8080/",
          "height": 53
        },
        "id": "c4b351a7-e2e3-41c6-88b4-5525e15f41db",
        "outputId": "b5132abb-b46c-414f-ef3e-540701267d68"
      },
      "outputs": [
        {
          "output_type": "execute_result",
          "data": {
            "text/plain": [
              "\"[CLS] The illustration in this book is definitely worth 5 stars - - it is absolutely gorgeous ! I really don ' t know if I ' ve ever seen such beautiful illustrations . My niece picked it up at the library and I made her check it out after g ##lim ##ps ##ing the pages as she turned through it . Then she went home and I kept it to read for myself . The writing , though , I would give 3 stars or maybe even 2 , so I ' m com ##p ##rom ##ising with the\""
            ],
            "application/vnd.google.colaboratory.intrinsic+json": {
              "type": "string"
            }
          },
          "metadata": {},
          "execution_count": 19
        }
      ],
      "source": [
        "# Training Goodreads review example after encoding\n",
        "\n",
        "' '.join(train_encodings[3].tokens[0:100])"
      ]
    },
    {
      "cell_type": "code",
      "execution_count": 20,
      "id": "75d9baf8-69fd-4d59-a7be-69b670d3050d",
      "metadata": {
        "colab": {
          "base_uri": "https://localhost:8080/",
          "height": 87
        },
        "id": "75d9baf8-69fd-4d59-a7be-69b670d3050d",
        "outputId": "cb1ec9a7-1f15-469c-95c2-0381c041cac9"
      },
      "outputs": [
        {
          "output_type": "execute_result",
          "data": {
            "text/plain": [
              "'The illustration in this book is definitely worth 5 stars--it is absolutely gorgeous! I really don\\'t know if I\\'ve ever seen such beautiful illustrations. My niece picked it up at the library and I made her check it out after glimpsing the pages as she turned through it. Then she went home and I kept it to read for myself. \\n The writing, though, I would give 3 stars or maybe even 2, so I\\'m compromising with the overall review. Some of it I liked; most of it was only okay, and some of it bothered me--like how the poor rhinoceros gets the only negative poem in the book. What\\'s that about? \\n A horn stuck on a boot-like face, \\n So wrong, so clearly out of place. \\n A frightful sight, preposterous-- \\n it must be a Rhinoceros! \\n I was also bugged by inconsistencies: the meter sometimes changes mid-poem, so they don\\'t have a good rhythm; some are titled, like \"The Panda,\" \"The Wolf,\" and \"The Giraffe,\" but in some the animal\\'s name is just incorporated into the text, like with the rhinoceros; some poems are written about the animals but some are written to them, and one is even written in the format of a letter complete with salutation and signature. \\n If I could get a hold of just the pictures, I would absolutely frame them and put them in a kid\\'s bedroom. The writing is just so disappointing next to the brilliance of the illustrations.'"
            ],
            "application/vnd.google.colaboratory.intrinsic+json": {
              "type": "string"
            }
          },
          "metadata": {},
          "execution_count": 20
        }
      ],
      "source": [
        "train_texts[3]"
      ]
    },
    {
      "cell_type": "code",
      "execution_count": 21,
      "id": "14d3e201-e9ed-49b5-9995-2ff87380ae03",
      "metadata": {
        "colab": {
          "base_uri": "https://localhost:8080/",
          "height": 87
        },
        "id": "14d3e201-e9ed-49b5-9995-2ff87380ae03",
        "outputId": "09db844f-6896-40b3-b662-9bf61d39c05a"
      },
      "outputs": [
        {
          "output_type": "execute_result",
          "data": {
            "text/plain": [
              "'[CLS] The illustration in this book is definitely worth 5 stars - - it is absolutely gorgeous ! I really don \\' t know if I \\' ve ever seen such beautiful illustrations . My niece picked it up at the library and I made her check it out after g ##lim ##ps ##ing the pages as she turned through it . Then she went home and I kept it to read for myself . The writing , though , I would give 3 stars or maybe even 2 , so I \\' m com ##p ##rom ##ising with the overall review . Some of it I liked ; most of it was only okay , and some of it bothered me - - like how the poor r ##hino ##cer ##os gets the only negative poem in the book . What \\' s that about ? A horn stuck on a boot - like face , So wrong , so clearly out of place . A f ##right ##ful sight , pre ##post ##ero ##us - - it must be a R ##hino ##cer ##os ! I was also bug ##ged by in ##con ##sist ##encies : the meter sometimes changes mid - poem , so they don \\' t have a good rhythm ; some are titled , like \" The Pan ##da , \" \" The Wolf , \" and \" The G ##ira ##ffe , \" but in some the animal \\' s name is just incorporated into the text , like with the r ##hino ##cer ##os ; some poems are written about the animals but some are written to them , and one is even written in the format of a letter complete with sa ##lut ##ation and signature . If I could get a hold of just the pictures , I would absolutely frame them and put them in a kid \\' s bedroom . The writing is just so disappointing next to the br ##ill ##iance of the illustrations . [SEP] [PAD] [PAD] [PAD] [PAD] [PAD] [PAD] [PAD] [PAD] [PAD] [PAD] [PAD] [PAD] [PAD] [PAD] [PAD] [PAD] [PAD] [PAD] [PAD] [PAD] [PAD] [PAD] [PAD] [PAD] [PAD] [PAD] [PAD] [PAD] [PAD] [PAD] [PAD] [PAD] [PAD] [PAD] [PAD] [PAD] [PAD] [PAD] [PAD] [PAD] [PAD] [PAD] [PAD] [PAD] [PAD] [PAD] [PAD] [PAD] [PAD] [PAD] [PAD] [PAD] [PAD] [PAD] [PAD] [PAD] [PAD] [PAD] [PAD] [PAD] [PAD] [PAD] [PAD] [PAD] [PAD] [PAD] [PAD] [PAD] [PAD] [PAD] [PAD] [PAD] [PAD] [PAD] [PAD] [PAD] [PAD] [PAD] [PAD] [PAD] [PAD] [PAD] [PAD] [PAD] [PAD] [PAD] [PAD] [PAD] [PAD] [PAD] [PAD] [PAD] [PAD] [PAD] [PAD] [PAD] [PAD] [PAD] [PAD] [PAD] [PAD] [PAD] [PAD] [PAD] [PAD] [PAD] [PAD] [PAD] [PAD] [PAD] [PAD] [PAD] [PAD] [PAD] [PAD] [PAD] [PAD] [PAD] [PAD] [PAD] [PAD] [PAD] [PAD] [PAD] [PAD] [PAD] [PAD] [PAD] [PAD] [PAD] [PAD] [PAD] [PAD] [PAD] [PAD] [PAD] [PAD] [PAD] [PAD] [PAD] [PAD] [PAD] [PAD] [PAD] [PAD] [PAD] [PAD] [PAD] [PAD] [PAD] [PAD] [PAD] [PAD] [PAD] [PAD] [PAD] [PAD] [PAD] [PAD] [PAD] [PAD] [PAD] [PAD] [PAD] [PAD] [PAD] [PAD] [PAD] [PAD] [PAD] [PAD] [PAD] [PAD]'"
            ],
            "application/vnd.google.colaboratory.intrinsic+json": {
              "type": "string"
            }
          },
          "metadata": {},
          "execution_count": 21
        }
      ],
      "source": [
        "# # Test Goodreads review example\n",
        "\n",
        "' '.join(train_encodings[3].tokens[0:512])"
      ]
    },
    {
      "cell_type": "code",
      "execution_count": 22,
      "id": "1483942c-c7ab-47ba-9640-4e0d46853520",
      "metadata": {
        "colab": {
          "base_uri": "https://localhost:8080/",
          "height": 35
        },
        "id": "1483942c-c7ab-47ba-9640-4e0d46853520",
        "outputId": "4a830c5d-e1e3-4fe7-dd03-9516a575e24b"
      },
      "outputs": [
        {
          "output_type": "execute_result",
          "data": {
            "text/plain": [
              "'Great poetry. Really erotic in some parts. Jill keeps it real.'"
            ],
            "application/vnd.google.colaboratory.intrinsic+json": {
              "type": "string"
            }
          },
          "metadata": {},
          "execution_count": 22
        }
      ],
      "source": [
        "test_texts[0]"
      ]
    },
    {
      "cell_type": "code",
      "source": [
        "' '.join(test_encodings[0].tokens[0:512])"
      ],
      "metadata": {
        "colab": {
          "base_uri": "https://localhost:8080/",
          "height": 87
        },
        "id": "dptMewm1hY2Q",
        "outputId": "ea0aea5f-1631-4a1a-d8a5-9f05cd16cbbb"
      },
      "id": "dptMewm1hY2Q",
      "execution_count": 23,
      "outputs": [
        {
          "output_type": "execute_result",
          "data": {
            "text/plain": [
              "'[CLS] Great poetry . Really erotic in some parts . Jill keeps it real . [SEP] [PAD] [PAD] [PAD] [PAD] [PAD] [PAD] [PAD] [PAD] [PAD] [PAD] [PAD] [PAD] [PAD] [PAD] [PAD] [PAD] [PAD] [PAD] [PAD] [PAD] [PAD] [PAD] [PAD] [PAD] [PAD] [PAD] [PAD] [PAD] [PAD] [PAD] [PAD] [PAD] [PAD] [PAD] [PAD] [PAD] [PAD] [PAD] [PAD] [PAD] [PAD] [PAD] [PAD] [PAD] [PAD] [PAD] [PAD] [PAD] [PAD] [PAD] [PAD] [PAD] [PAD] [PAD] [PAD] [PAD] [PAD] [PAD] [PAD] [PAD] [PAD] [PAD] [PAD] [PAD] [PAD] [PAD] [PAD] [PAD] [PAD] [PAD] [PAD] [PAD] [PAD] [PAD] [PAD] [PAD] [PAD] [PAD] [PAD] [PAD] [PAD] [PAD] [PAD] [PAD] [PAD] [PAD] [PAD] [PAD] [PAD] [PAD] [PAD] [PAD] [PAD] [PAD] [PAD] [PAD] [PAD] [PAD] [PAD] [PAD] [PAD] [PAD] [PAD] [PAD] [PAD] [PAD] [PAD] [PAD] [PAD] [PAD] [PAD] [PAD] [PAD] [PAD] [PAD] [PAD] [PAD] [PAD] [PAD] [PAD] [PAD] [PAD] [PAD] [PAD] [PAD] [PAD] [PAD] [PAD] [PAD] [PAD] [PAD] [PAD] [PAD] [PAD] [PAD] [PAD] [PAD] [PAD] [PAD] [PAD] [PAD] [PAD] [PAD] [PAD] [PAD] [PAD] [PAD] [PAD] [PAD] [PAD] [PAD] [PAD] [PAD] [PAD] [PAD] [PAD] [PAD] [PAD] [PAD] [PAD] [PAD] [PAD] [PAD] [PAD] [PAD] [PAD] [PAD] [PAD] [PAD] [PAD] [PAD] [PAD] [PAD] [PAD] [PAD] [PAD] [PAD] [PAD] [PAD] [PAD] [PAD] [PAD] [PAD] [PAD] [PAD] [PAD] [PAD] [PAD] [PAD] [PAD] [PAD] [PAD] [PAD] [PAD] [PAD] [PAD] [PAD] [PAD] [PAD] [PAD] [PAD] [PAD] [PAD] [PAD] [PAD] [PAD] [PAD] [PAD] [PAD] [PAD] [PAD] [PAD] [PAD] [PAD] [PAD] [PAD] [PAD] [PAD] [PAD] [PAD] [PAD] [PAD] [PAD] [PAD] [PAD] [PAD] [PAD] [PAD] [PAD] [PAD] [PAD] [PAD] [PAD] [PAD] [PAD] [PAD] [PAD] [PAD] [PAD] [PAD] [PAD] [PAD] [PAD] [PAD] [PAD] [PAD] [PAD] [PAD] [PAD] [PAD] [PAD] [PAD] [PAD] [PAD] [PAD] [PAD] [PAD] [PAD] [PAD] [PAD] [PAD] [PAD] [PAD] [PAD] [PAD] [PAD] [PAD] [PAD] [PAD] [PAD] [PAD] [PAD] [PAD] [PAD] [PAD] [PAD] [PAD] [PAD] [PAD] [PAD] [PAD] [PAD] [PAD] [PAD] [PAD] [PAD] [PAD] [PAD] [PAD] [PAD] [PAD] [PAD] [PAD] [PAD] [PAD] [PAD] [PAD] [PAD] [PAD] [PAD] [PAD] [PAD] [PAD] [PAD] [PAD] [PAD] [PAD] [PAD] [PAD] [PAD] [PAD] [PAD] [PAD] [PAD] [PAD] [PAD] [PAD] [PAD] [PAD] [PAD] [PAD] [PAD] [PAD] [PAD] [PAD] [PAD] [PAD] [PAD] [PAD] [PAD] [PAD] [PAD] [PAD] [PAD] [PAD] [PAD] [PAD] [PAD] [PAD] [PAD] [PAD] [PAD] [PAD] [PAD] [PAD] [PAD] [PAD] [PAD] [PAD] [PAD] [PAD] [PAD] [PAD] [PAD] [PAD] [PAD] [PAD] [PAD] [PAD] [PAD] [PAD] [PAD] [PAD] [PAD] [PAD] [PAD] [PAD] [PAD] [PAD] [PAD] [PAD] [PAD] [PAD] [PAD] [PAD] [PAD] [PAD] [PAD] [PAD] [PAD] [PAD] [PAD] [PAD] [PAD] [PAD] [PAD] [PAD] [PAD] [PAD] [PAD] [PAD] [PAD] [PAD] [PAD] [PAD] [PAD] [PAD] [PAD] [PAD] [PAD] [PAD] [PAD] [PAD] [PAD] [PAD] [PAD] [PAD] [PAD] [PAD] [PAD] [PAD] [PAD] [PAD] [PAD] [PAD] [PAD] [PAD] [PAD] [PAD] [PAD] [PAD] [PAD] [PAD] [PAD] [PAD] [PAD] [PAD] [PAD] [PAD] [PAD] [PAD] [PAD] [PAD] [PAD] [PAD] [PAD] [PAD] [PAD] [PAD] [PAD] [PAD] [PAD] [PAD] [PAD] [PAD] [PAD] [PAD] [PAD] [PAD] [PAD] [PAD] [PAD] [PAD] [PAD] [PAD] [PAD] [PAD] [PAD] [PAD] [PAD] [PAD] [PAD] [PAD] [PAD] [PAD] [PAD] [PAD] [PAD] [PAD] [PAD] [PAD] [PAD] [PAD] [PAD] [PAD] [PAD] [PAD] [PAD] [PAD] [PAD] [PAD] [PAD] [PAD] [PAD] [PAD] [PAD] [PAD] [PAD] [PAD] [PAD] [PAD] [PAD] [PAD] [PAD] [PAD] [PAD]'"
            ],
            "application/vnd.google.colaboratory.intrinsic+json": {
              "type": "string"
            }
          },
          "metadata": {},
          "execution_count": 23
        }
      ]
    },
    {
      "cell_type": "code",
      "execution_count": 24,
      "id": "032508d5-423f-458e-80af-ed9ad76c224d",
      "metadata": {
        "colab": {
          "base_uri": "https://localhost:8080/"
        },
        "id": "032508d5-423f-458e-80af-ed9ad76c224d",
        "outputId": "c09a4039-c08d-4884-8090-fed6c492caf9"
      },
      "outputs": [
        {
          "output_type": "execute_result",
          "data": {
            "text/plain": [
              "{0, 1, 2, 3, 4, 5, 6, 7}"
            ]
          },
          "metadata": {},
          "execution_count": 24
        }
      ],
      "source": [
        "# training labels\n",
        "\n",
        "set(train_labels_encoded)"
      ]
    },
    {
      "cell_type": "code",
      "execution_count": 25,
      "id": "5025741c-e112-4bf1-8a13-520ba0cb6ae7",
      "metadata": {
        "colab": {
          "base_uri": "https://localhost:8080/"
        },
        "id": "5025741c-e112-4bf1-8a13-520ba0cb6ae7",
        "outputId": "d26553ac-3bf2-4215-c8da-6f1be550ce0f"
      },
      "outputs": [
        {
          "output_type": "execute_result",
          "data": {
            "text/plain": [
              "{0, 1, 2, 3, 4, 5, 6, 7}"
            ]
          },
          "metadata": {},
          "execution_count": 25
        }
      ],
      "source": [
        "# test labels\n",
        "\n",
        "set(test_labels_encoded)"
      ]
    },
    {
      "cell_type": "markdown",
      "id": "0fecd1e7-d826-4510-b61a-edcc2cd94235",
      "metadata": {
        "id": "0fecd1e7-d826-4510-b61a-edcc2cd94235"
      },
      "source": [
        "## Torch dataset"
      ]
    },
    {
      "cell_type": "code",
      "execution_count": 26,
      "id": "b66c1b12-e6f8-4be9-9d0f-a808652625ea",
      "metadata": {
        "colab": {
          "base_uri": "https://localhost:8080/"
        },
        "id": "b66c1b12-e6f8-4be9-9d0f-a808652625ea",
        "outputId": "18f71f37-7cf7-4f8e-c2be-d810c0258f05"
      },
      "outputs": [
        {
          "output_type": "execute_result",
          "data": {
            "text/plain": [
              "Encoding(num_tokens=512, attributes=[ids, type_ids, tokens, offsets, attention_mask, special_tokens_mask, overflowing])"
            ]
          },
          "metadata": {},
          "execution_count": 26
        }
      ],
      "source": [
        "#print(train_encodings[0].tokens, train_encodings[0].ids, train_encodings[0].attention_mask)\n",
        "train_encodings[0]"
      ]
    },
    {
      "cell_type": "code",
      "execution_count": 27,
      "id": "f140b3da-3d99-48d7-9074-a6884a73508b",
      "metadata": {
        "id": "f140b3da-3d99-48d7-9074-a6884a73508b"
      },
      "outputs": [],
      "source": [
        "class MyDataset(torch.utils.data.Dataset):\n",
        "    def __init__(self, encodings, labels):\n",
        "        self.encodings = encodings\n",
        "        self.labels = labels\n",
        "\n",
        "    def __getitem__(self, idx):\n",
        "        item = {key: torch.tensor(val[idx]) for key, val in self.encodings.items()}\n",
        "        item['labels'] = torch.tensor(self.labels[idx])\n",
        "        return item\n",
        "\n",
        "    def __len__(self):\n",
        "        return len(self.labels)"
      ]
    },
    {
      "cell_type": "code",
      "execution_count": 28,
      "id": "7d294f5f-37cf-407b-a9e1-2a800d641a82",
      "metadata": {
        "id": "7d294f5f-37cf-407b-a9e1-2a800d641a82"
      },
      "outputs": [],
      "source": [
        "train_dataset = MyDataset(train_encodings, train_labels_encoded)\n",
        "test_dataset = MyDataset(test_encodings, test_labels_encoded)"
      ]
    },
    {
      "cell_type": "code",
      "source": [
        "train_dataset.encodings[3]\n",
        "#train_dataset.labels[0]"
      ],
      "metadata": {
        "colab": {
          "base_uri": "https://localhost:8080/"
        },
        "id": "ILy8lB3Ei1dq",
        "outputId": "1785eaec-936a-4a7f-be62-c8d4cd249315"
      },
      "id": "ILy8lB3Ei1dq",
      "execution_count": 60,
      "outputs": [
        {
          "output_type": "execute_result",
          "data": {
            "text/plain": [
              "Encoding(num_tokens=512, attributes=[ids, type_ids, tokens, offsets, attention_mask, special_tokens_mask, overflowing])"
            ]
          },
          "metadata": {},
          "execution_count": 60
        }
      ]
    },
    {
      "cell_type": "code",
      "execution_count": 34,
      "id": "2cf08585-65b2-40cd-8074-178869c3b986",
      "metadata": {
        "colab": {
          "base_uri": "https://localhost:8080/",
          "height": 87
        },
        "id": "2cf08585-65b2-40cd-8074-178869c3b986",
        "outputId": "3dd53529-797f-4886-daab-6ecd71566cc9"
      },
      "outputs": [
        {
          "output_type": "execute_result",
          "data": {
            "text/plain": [
              "'[CLS] The illustration in this book is definitely worth 5 stars - - it is absolutely gorgeous ! I really don \\' t know if I \\' ve ever seen such beautiful illustrations . My niece picked it up at the library and I made her check it out after g ##lim ##ps ##ing the pages as she turned through it . Then she went home and I kept it to read for myself . The writing , though , I would give 3 stars or maybe even 2 , so I \\' m com ##p ##rom ##ising with the overall review . Some of it I liked ; most of it was only okay , and some of it bothered me - - like how the poor r ##hino ##cer ##os gets the only negative poem in the book . What \\' s that about ? A horn stuck on a boot - like face , So wrong , so clearly out of place . A f ##right ##ful sight , pre ##post ##ero ##us - - it must be a R ##hino ##cer ##os ! I was also bug ##ged by in ##con ##sist ##encies : the meter sometimes changes mid - poem , so they don \\' t have a good rhythm ; some are titled , like \" The Pan ##da , \" \" The Wolf , \" and \" The G ##ira ##ffe , \" but in some the animal \\' s name is just incorporated into the text , like with the r ##hino ##cer ##os ; some poems are written about the animals but some are written to them , and one is even written in the format of a letter complete with sa ##lut ##ation and signature . If I could get a hold of just the pictures , I would absolutely frame them and put them in a kid \\' s bedroom . The writing is just so disappointing next to the br ##ill ##iance of the illustrations . [SEP] [PAD] [PAD] [PAD] [PAD] [PAD] [PAD] [PAD] [PAD] [PAD] [PAD] [PAD] [PAD] [PAD] [PAD] [PAD] [PAD] [PAD] [PAD] [PAD] [PAD] [PAD] [PAD] [PAD] [PAD] [PAD] [PAD] [PAD] [PAD] [PAD] [PAD] [PAD] [PAD] [PAD] [PAD] [PAD] [PAD] [PAD] [PAD] [PAD] [PAD] [PAD] [PAD] [PAD] [PAD] [PAD] [PAD] [PAD] [PAD] [PAD] [PAD] [PAD] [PAD] [PAD] [PAD] [PAD] [PAD] [PAD] [PAD] [PAD] [PAD] [PAD] [PAD] [PAD] [PAD] [PAD] [PAD] [PAD] [PAD] [PAD] [PAD] [PAD] [PAD] [PAD] [PAD] [PAD] [PAD] [PAD] [PAD] [PAD] [PAD] [PAD] [PAD] [PAD] [PAD] [PAD] [PAD] [PAD] [PAD] [PAD] [PAD] [PAD] [PAD] [PAD] [PAD] [PAD] [PAD] [PAD] [PAD] [PAD] [PAD] [PAD] [PAD] [PAD] [PAD] [PAD] [PAD] [PAD] [PAD] [PAD] [PAD] [PAD] [PAD] [PAD] [PAD] [PAD] [PAD] [PAD] [PAD] [PAD] [PAD] [PAD] [PAD] [PAD] [PAD] [PAD] [PAD] [PAD] [PAD] [PAD] [PAD] [PAD] [PAD] [PAD] [PAD] [PAD] [PAD] [PAD] [PAD] [PAD] [PAD] [PAD] [PAD] [PAD] [PAD] [PAD] [PAD] [PAD] [PAD] [PAD] [PAD] [PAD] [PAD] [PAD] [PAD] [PAD] [PAD] [PAD] [PAD] [PAD] [PAD] [PAD] [PAD] [PAD] [PAD] [PAD] [PAD] [PAD] [PAD] [PAD] [PAD] [PAD] [PAD] [PAD]'"
            ],
            "application/vnd.google.colaboratory.intrinsic+json": {
              "type": "string"
            }
          },
          "metadata": {},
          "execution_count": 34
        }
      ],
      "source": [
        "# Training example in the Torch dataset \n",
        "\n",
        "' '.join(train_dataset.encodings[3].tokens[0:])"
      ]
    },
    {
      "cell_type": "markdown",
      "id": "d31cc1f7-193e-4e69-8b42-1a416c8453ec",
      "metadata": {
        "id": "d31cc1f7-193e-4e69-8b42-1a416c8453ec"
      },
      "source": [
        "## Load the pretrained-model"
      ]
    },
    {
      "cell_type": "code",
      "execution_count": 61,
      "id": "460f661d-71fa-418d-83bb-e456951317df",
      "metadata": {
        "colab": {
          "base_uri": "https://localhost:8080/"
        },
        "id": "460f661d-71fa-418d-83bb-e456951317df",
        "outputId": "0682c37d-e8cb-4f99-d5ae-bbd11ef2b09c"
      },
      "outputs": [
        {
          "output_type": "stream",
          "name": "stderr",
          "text": [
            "Some weights of the model checkpoint at distilbert-base-cased were not used when initializing DistilBertForSequenceClassification: ['vocab_projector.weight', 'vocab_layer_norm.weight', 'vocab_layer_norm.bias', 'vocab_transform.weight', 'vocab_transform.bias', 'vocab_projector.bias']\n",
            "- This IS expected if you are initializing DistilBertForSequenceClassification from the checkpoint of a model trained on another task or with another architecture (e.g. initializing a BertForSequenceClassification model from a BertForPreTraining model).\n",
            "- This IS NOT expected if you are initializing DistilBertForSequenceClassification from the checkpoint of a model that you expect to be exactly identical (initializing a BertForSequenceClassification model from a BertForSequenceClassification model).\n",
            "Some weights of DistilBertForSequenceClassification were not initialized from the model checkpoint at distilbert-base-cased and are newly initialized: ['classifier.weight', 'classifier.bias', 'pre_classifier.bias', 'pre_classifier.weight']\n",
            "You should probably TRAIN this model on a down-stream task to be able to use it for predictions and inference.\n"
          ]
        }
      ],
      "source": [
        "# The model_name needs to match the name used for the tokenizer above.\n",
        "\n",
        "model = DistilBertForSequenceClassification.from_pretrained(model_name, num_labels=len(id2label)).to(device_name)"
      ]
    },
    {
      "cell_type": "markdown",
      "id": "8a0efac5-dfe5-4b83-930a-72670effeeeb",
      "metadata": {
        "id": "8a0efac5-dfe5-4b83-930a-72670effeeeb"
      },
      "source": [
        "## BERT fine-tuning parameters --> HuggingFace"
      ]
    },
    {
      "cell_type": "code",
      "execution_count": 66,
      "id": "2f1dfe3b-6772-4d7c-ae0a-b65d51ab9f21",
      "metadata": {
        "id": "2f1dfe3b-6772-4d7c-ae0a-b65d51ab9f21",
        "colab": {
          "base_uri": "https://localhost:8080/"
        },
        "outputId": "379db450-51fe-4464-9043-75110cc90aea"
      },
      "outputs": [
        {
          "output_type": "stream",
          "name": "stderr",
          "text": [
            "using `logging_steps` to initialize `eval_steps` to 100\n",
            "PyTorch: setting up devices\n",
            "The default value for the training argument `--report_to` will change in v5 (from all installed integrations to none). In v5, you will need to use `--report_to all` to get the same behavior as now. You should start updating your code and make this info disappear :-).\n"
          ]
        }
      ],
      "source": [
        "training_args = TrainingArguments(\n",
        "    num_train_epochs=1,              # total number of training epochs\n",
        "    per_device_train_batch_size=16,  # batch size per device during training\n",
        "    per_device_eval_batch_size=20,   # batch size for evaluation\n",
        "    learning_rate=5e-5,              # initial learning rate for Adam optimizer\n",
        "    warmup_steps=100,                # number of warmup steps for learning rate scheduler (set lower because of small dataset size)\n",
        "    weight_decay=0.01,               # strength of weight decay\n",
        "    output_dir='./results',          # output directory\n",
        "    logging_dir='./logs',            # directory for storing logs\n",
        "    logging_steps=100,               # number of steps to output logging (set lower because of small dataset size)\n",
        "    evaluation_strategy='steps',     # evaluate during fine-tuning so that we can see progress\n",
        ")"
      ]
    },
    {
      "cell_type": "code",
      "execution_count": 67,
      "id": "0d5e0631-91a2-4037-98e8-68117109f12b",
      "metadata": {
        "id": "0d5e0631-91a2-4037-98e8-68117109f12b"
      },
      "outputs": [],
      "source": [
        "def compute_metrics(pred):\n",
        "    labels = pred.label_ids\n",
        "    preds = pred.predictions.argmax(-1)\n",
        "    acc = accuracy_score(labels, preds)\n",
        "    return {\n",
        "        'accuracy': acc,\n",
        "  }"
      ]
    },
    {
      "cell_type": "code",
      "execution_count": 68,
      "id": "c9591913-1b75-43c6-ae66-65b9bc96f97a",
      "metadata": {
        "id": "c9591913-1b75-43c6-ae66-65b9bc96f97a"
      },
      "outputs": [],
      "source": [
        "trainer = Trainer(\n",
        "    model=model,                         # the instantiated 🤗 Transformers model to be trained\n",
        "    args=training_args,                  # training arguments, defined above\n",
        "    train_dataset=train_dataset,         # training dataset\n",
        "    eval_dataset=test_dataset,           # evaluation dataset (usually a validation set; here we just send our test set)\n",
        "    compute_metrics=compute_metrics      # our custom evaluation function \n",
        ")"
      ]
    },
    {
      "cell_type": "code",
      "execution_count": 69,
      "id": "d788dd2a-3a50-40a3-9a6e-fbd3d330e962",
      "metadata": {
        "colab": {
          "base_uri": "https://localhost:8080/",
          "height": 707
        },
        "id": "d788dd2a-3a50-40a3-9a6e-fbd3d330e962",
        "outputId": "0132452b-d5ca-4ac2-b9f1-51b5b4325852"
      },
      "outputs": [
        {
          "output_type": "stream",
          "name": "stderr",
          "text": [
            "/usr/local/lib/python3.8/dist-packages/transformers/optimization.py:306: FutureWarning: This implementation of AdamW is deprecated and will be removed in a future version. Use the PyTorch implementation torch.optim.AdamW instead, or set `no_deprecation_warning=True` to disable this warning\n",
            "  warnings.warn(\n",
            "***** Running training *****\n",
            "  Num examples = 6400\n",
            "  Num Epochs = 1\n",
            "  Instantaneous batch size per device = 16\n",
            "  Total train batch size (w. parallel, distributed & accumulation) = 16\n",
            "  Gradient Accumulation steps = 1\n",
            "  Total optimization steps = 400\n",
            "  Number of trainable parameters = 65787656\n"
          ]
        },
        {
          "output_type": "display_data",
          "data": {
            "text/plain": [
              "<IPython.core.display.HTML object>"
            ],
            "text/html": [
              "\n",
              "    <div>\n",
              "      \n",
              "      <progress value='400' max='400' style='width:300px; height:20px; vertical-align: middle;'></progress>\n",
              "      [400/400 06:30, Epoch 1/1]\n",
              "    </div>\n",
              "    <table border=\"1\" class=\"dataframe\">\n",
              "  <thead>\n",
              " <tr style=\"text-align: left;\">\n",
              "      <th>Step</th>\n",
              "      <th>Training Loss</th>\n",
              "      <th>Validation Loss</th>\n",
              "      <th>Accuracy</th>\n",
              "    </tr>\n",
              "  </thead>\n",
              "  <tbody>\n",
              "    <tr>\n",
              "      <td>100</td>\n",
              "      <td>1.286400</td>\n",
              "      <td>1.424524</td>\n",
              "      <td>0.518750</td>\n",
              "    </tr>\n",
              "    <tr>\n",
              "      <td>200</td>\n",
              "      <td>0.895900</td>\n",
              "      <td>1.484003</td>\n",
              "      <td>0.490625</td>\n",
              "    </tr>\n",
              "    <tr>\n",
              "      <td>300</td>\n",
              "      <td>1.084600</td>\n",
              "      <td>1.358238</td>\n",
              "      <td>0.521875</td>\n",
              "    </tr>\n",
              "    <tr>\n",
              "      <td>400</td>\n",
              "      <td>1.363500</td>\n",
              "      <td>1.313078</td>\n",
              "      <td>0.526250</td>\n",
              "    </tr>\n",
              "  </tbody>\n",
              "</table><p>"
            ]
          },
          "metadata": {}
        },
        {
          "output_type": "stream",
          "name": "stderr",
          "text": [
            "***** Running Evaluation *****\n",
            "  Num examples = 1600\n",
            "  Batch size = 20\n",
            "***** Running Evaluation *****\n",
            "  Num examples = 1600\n",
            "  Batch size = 20\n",
            "***** Running Evaluation *****\n",
            "  Num examples = 1600\n",
            "  Batch size = 20\n",
            "***** Running Evaluation *****\n",
            "  Num examples = 1600\n",
            "  Batch size = 20\n",
            "\n",
            "\n",
            "Training completed. Do not forget to share your model on huggingface.co/models =)\n",
            "\n",
            "\n"
          ]
        },
        {
          "output_type": "execute_result",
          "data": {
            "text/plain": [
              "TrainOutput(global_step=400, training_loss=1.1576005554199218, metrics={'train_runtime': 391.4545, 'train_samples_per_second': 16.349, 'train_steps_per_second': 1.022, 'total_flos': 847882066329600.0, 'train_loss': 1.1576005554199218, 'epoch': 1.0})"
            ]
          },
          "metadata": {},
          "execution_count": 69
        }
      ],
      "source": [
        "trainer.train()"
      ]
    },
    {
      "cell_type": "code",
      "execution_count": 70,
      "id": "9cd3069c-2998-4ff1-ab8f-fa5c35e0e712",
      "metadata": {
        "id": "9cd3069c-2998-4ff1-ab8f-fa5c35e0e712",
        "outputId": "3afd198c-e9d0-45cd-a90c-6667f3955b9a",
        "colab": {
          "base_uri": "https://localhost:8080/"
        }
      },
      "outputs": [
        {
          "output_type": "stream",
          "name": "stderr",
          "text": [
            "Saving model checkpoint to /content/drive/MyDrive/Data_Goodreads/results\n",
            "Configuration saved in /content/drive/MyDrive/Data_Goodreads/results/config.json\n",
            "Model weights saved in /content/drive/MyDrive/Data_Goodreads/results/pytorch_model.bin\n"
          ]
        }
      ],
      "source": [
        "trainer.save_model(cached_model_directory_name)"
      ]
    },
    {
      "cell_type": "code",
      "execution_count": 83,
      "id": "f93e6ae8-612f-45bc-80ae-341fbb1ca732",
      "metadata": {
        "id": "f93e6ae8-612f-45bc-80ae-341fbb1ca732"
      },
      "outputs": [],
      "source": [
        "# To evaluate you can use your saved model\n",
        "\n",
        "#trainer = DistilBertForSequenceClassification.from_pretrained(cached_model_directory_name)"
      ]
    },
    {
      "cell_type": "markdown",
      "id": "72e3f371-7007-4605-8e2d-f5314f943305",
      "metadata": {
        "id": "72e3f371-7007-4605-8e2d-f5314f943305"
      },
      "source": [
        "## Evaluate"
      ]
    },
    {
      "cell_type": "code",
      "execution_count": 71,
      "id": "542a53e9-9e93-47c2-9434-70e60f2017ad",
      "metadata": {
        "id": "542a53e9-9e93-47c2-9434-70e60f2017ad",
        "outputId": "74dd4d14-191e-48b3-c674-5f6c083f58aa",
        "colab": {
          "base_uri": "https://localhost:8080/",
          "height": 193
        }
      },
      "outputs": [
        {
          "output_type": "stream",
          "name": "stderr",
          "text": [
            "***** Running Evaluation *****\n",
            "  Num examples = 1600\n",
            "  Batch size = 20\n"
          ]
        },
        {
          "output_type": "display_data",
          "data": {
            "text/plain": [
              "<IPython.core.display.HTML object>"
            ],
            "text/html": [
              "\n",
              "    <div>\n",
              "      \n",
              "      <progress value='80' max='80' style='width:300px; height:20px; vertical-align: middle;'></progress>\n",
              "      [80/80 00:24]\n",
              "    </div>\n",
              "    "
            ]
          },
          "metadata": {}
        },
        {
          "output_type": "execute_result",
          "data": {
            "text/plain": [
              "{'eval_loss': 1.3130782842636108,\n",
              " 'eval_accuracy': 0.52625,\n",
              " 'eval_runtime': 24.8032,\n",
              " 'eval_samples_per_second': 64.508,\n",
              " 'eval_steps_per_second': 3.225,\n",
              " 'epoch': 1.0}"
            ]
          },
          "metadata": {},
          "execution_count": 71
        }
      ],
      "source": [
        "trainer.evaluate()"
      ]
    },
    {
      "cell_type": "code",
      "execution_count": 72,
      "id": "26a7f2c5-56ed-452b-a07a-2cac62d49e2e",
      "metadata": {
        "id": "26a7f2c5-56ed-452b-a07a-2cac62d49e2e",
        "outputId": "94cde988-db9e-4af9-bbbf-80bcb98f4dff",
        "colab": {
          "base_uri": "https://localhost:8080/",
          "height": 69
        }
      },
      "outputs": [
        {
          "output_type": "stream",
          "name": "stderr",
          "text": [
            "***** Running Prediction *****\n",
            "  Num examples = 1600\n",
            "  Batch size = 20\n"
          ]
        },
        {
          "output_type": "display_data",
          "data": {
            "text/plain": [
              "<IPython.core.display.HTML object>"
            ],
            "text/html": []
          },
          "metadata": {}
        }
      ],
      "source": [
        "predicted_results = trainer.predict(test_dataset)"
      ]
    },
    {
      "cell_type": "code",
      "execution_count": 73,
      "id": "f8ca296e-56ab-4cba-8538-29db5281722a",
      "metadata": {
        "id": "f8ca296e-56ab-4cba-8538-29db5281722a",
        "outputId": "1ec8aab8-b59e-44a0-cfef-09ec75e2def0",
        "colab": {
          "base_uri": "https://localhost:8080/"
        }
      },
      "outputs": [
        {
          "output_type": "execute_result",
          "data": {
            "text/plain": [
              "(1600, 8)"
            ]
          },
          "metadata": {},
          "execution_count": 73
        }
      ],
      "source": [
        "predicted_results.predictions.shape"
      ]
    },
    {
      "cell_type": "code",
      "execution_count": 74,
      "id": "0f7f3166-1705-41e4-b99f-df8c8da4de37",
      "metadata": {
        "id": "0f7f3166-1705-41e4-b99f-df8c8da4de37"
      },
      "outputs": [],
      "source": [
        "predicted_labels = predicted_results.predictions.argmax(-1) # Get the index -> highest probability prediction\n",
        "predicted_labels = predicted_labels.flatten().tolist()      # Flatten the predictions into a 1D list\n",
        "predicted_labels = [id2label[l] for l in predicted_labels]  # Convert from integers back to strings for readability"
      ]
    },
    {
      "cell_type": "code",
      "execution_count": 75,
      "id": "c19f15bf-b83a-456c-aaae-adaf289d79a5",
      "metadata": {
        "id": "c19f15bf-b83a-456c-aaae-adaf289d79a5",
        "outputId": "8e7c80ee-2677-4479-b3c0-e441f0dcd26d",
        "colab": {
          "base_uri": "https://localhost:8080/"
        }
      },
      "outputs": [
        {
          "output_type": "execute_result",
          "data": {
            "text/plain": [
              "1600"
            ]
          },
          "metadata": {},
          "execution_count": 75
        }
      ],
      "source": [
        "len(predicted_labels)"
      ]
    },
    {
      "cell_type": "code",
      "execution_count": 76,
      "id": "f083b26a-55df-492a-99d9-39a0ee35803f",
      "metadata": {
        "id": "f083b26a-55df-492a-99d9-39a0ee35803f",
        "outputId": "28b42c68-b500-4473-e513-0674fed19830",
        "colab": {
          "base_uri": "https://localhost:8080/"
        }
      },
      "outputs": [
        {
          "output_type": "stream",
          "name": "stdout",
          "text": [
            "                        precision    recall  f1-score   support\n",
            "\n",
            "              children       0.64      0.67      0.65       200\n",
            "        comics_graphic       0.65      0.60      0.63       200\n",
            "    fantasy_paranormal       0.40      0.40      0.40       200\n",
            "     history_biography       0.61      0.52      0.56       200\n",
            "mystery_thriller_crime       0.44      0.57      0.50       200\n",
            "                poetry       0.68      0.72      0.70       200\n",
            "               romance       0.45      0.51      0.48       200\n",
            "           young_adult       0.31      0.20      0.25       200\n",
            "\n",
            "              accuracy                           0.53      1600\n",
            "             macro avg       0.52      0.53      0.52      1600\n",
            "          weighted avg       0.52      0.53      0.52      1600\n",
            "\n"
          ]
        }
      ],
      "source": [
        "print(classification_report(test_labels, predicted_labels))"
      ]
    },
    {
      "cell_type": "markdown",
      "id": "13fd437e-4b67-4b70-bef5-9ce08090208d",
      "metadata": {
        "id": "13fd437e-4b67-4b70-bef5-9ce08090208d"
      },
      "source": [
        "# Correct and Incorrect classifications"
      ]
    },
    {
      "cell_type": "code",
      "execution_count": 77,
      "id": "afc59e1f-e5ea-40ef-8f8c-af1136054772",
      "metadata": {
        "id": "afc59e1f-e5ea-40ef-8f8c-af1136054772",
        "outputId": "afdb4856-bb29-42aa-8b3f-38518b7201d5",
        "colab": {
          "base_uri": "https://localhost:8080/"
        }
      },
      "outputs": [
        {
          "output_type": "stream",
          "name": "stdout",
          "text": [
            "LABEL: poetry\n",
            "REVIEW TEXT: Got this as part of a poetry exchange today in the mail. As a graduate of Naropa and casual scholar  ...\n",
            "\n",
            "LABEL: comics_graphic\n",
            "REVIEW TEXT: I grabbed this book because I love graphic novels--- and had done a report in the 5th grade on Dian  ...\n",
            "\n",
            "LABEL: comics_graphic\n",
            "REVIEW TEXT: -Ik vind de 'nieuwe' Batman van Frank Miller best een verbetering. \n",
            " -Het verhaal rondom de Joker is ...\n",
            "\n",
            "LABEL: children\n",
            "REVIEW TEXT: Why are the Boxcar Children so resourceful? Why doesn't their grandfather get along with their paren ...\n",
            "\n"
          ]
        }
      ],
      "source": [
        "# Correct\n",
        "\n",
        "for _true_label, _predicted_label, _text in random.sample(list(zip(test_labels, predicted_labels, test_texts)), 10):\n",
        "    if _true_label == _predicted_label:\n",
        "        print('LABEL:', _true_label)\n",
        "        print('REVIEW TEXT:', _text[:100], '...')\n",
        "        print()"
      ]
    },
    {
      "cell_type": "code",
      "execution_count": 78,
      "id": "71726b0d-dfb1-4294-9e2e-474f644f2701",
      "metadata": {
        "id": "71726b0d-dfb1-4294-9e2e-474f644f2701",
        "outputId": "f4044595-9b6d-42f8-dc34-23eb9b49e572",
        "colab": {
          "base_uri": "https://localhost:8080/"
        }
      },
      "outputs": [
        {
          "output_type": "stream",
          "name": "stdout",
          "text": [
            "TRUE LABEL: romance\n",
            "PREDICTED LABEL: mystery_thriller_crime\n",
            "REVIEW TEXT: Con esta ya son dos las novelas de esta autora que he tenido el placer de leer. A diferencia de Sent ...\n",
            "\n",
            "TRUE LABEL: young_adult\n",
            "PREDICTED LABEL: fantasy_paranormal\n",
            "REVIEW TEXT: Kiera's been missing for a year. Zakk and his people have been searching for her everywhere. On Eart ...\n",
            "\n",
            "TRUE LABEL: romance\n",
            "PREDICTED LABEL: history_biography\n",
            "REVIEW TEXT: ** spoiler alert ** \n",
            " The first thing I'm going to say is that I didn't finish this book. I got to a ...\n",
            "\n",
            "TRUE LABEL: poetry\n",
            "PREDICTED LABEL: history_biography\n",
            "REVIEW TEXT: Ben Jonson must have been a remarkable man, a true Renaissance man of letters and action who lived a ...\n",
            "\n",
            "TRUE LABEL: comics_graphic\n",
            "PREDICTED LABEL: children\n",
            "REVIEW TEXT: An interesting story that does not flow in the usual vein of children's books having a moral or a ha ...\n",
            "\n"
          ]
        }
      ],
      "source": [
        "# Incorrect\n",
        "\n",
        "for _true_label, _predicted_label, _text in random.sample(list(zip(test_labels, predicted_labels, test_texts)), 10):\n",
        "    if _true_label != _predicted_label:\n",
        "        print('TRUE LABEL:', _true_label)\n",
        "        print('PREDICTED LABEL:', _predicted_label)\n",
        "        print('REVIEW TEXT:', _text[:100], '...')\n",
        "        print()"
      ]
    },
    {
      "cell_type": "code",
      "execution_count": 79,
      "id": "e0f6570b-0969-4172-a51a-633ea20c1376",
      "metadata": {
        "id": "e0f6570b-0969-4172-a51a-633ea20c1376"
      },
      "outputs": [],
      "source": [
        "# Heatmaps to examine misclassification\n",
        "\n",
        "genre_classifications_dict = defaultdict(int)\n",
        "for _true_label, _predicted_label in zip(test_labels, predicted_labels):\n",
        "    genre_classifications_dict[(_true_label, _predicted_label)] += 1\n",
        "  \n",
        "dicts_to_plot = []\n",
        "for (_true_genre, _predicted_genre), _count in genre_classifications_dict.items():\n",
        "    dicts_to_plot.append({'True Genre': _true_genre,\n",
        "                        'Predicted Genre': _predicted_genre,\n",
        "                        'Number of Classifications': _count})\n",
        "  \n",
        "df_to_plot = pd.DataFrame(dicts_to_plot)\n",
        "df_wide = df_to_plot.pivot_table(index='True Genre', \n",
        "                                 columns='Predicted Genre', \n",
        "                                 values='Number of Classifications')"
      ]
    },
    {
      "cell_type": "code",
      "execution_count": 80,
      "id": "7c33b4f0-6bcd-4f01-9b61-d2f5ada0e697",
      "metadata": {
        "id": "7c33b4f0-6bcd-4f01-9b61-d2f5ada0e697",
        "outputId": "558c0c86-48ba-478a-a066-827fd1d797fd",
        "colab": {
          "base_uri": "https://localhost:8080/",
          "height": 504
        }
      },
      "outputs": [
        {
          "output_type": "display_data",
          "data": {
            "text/plain": [
              "<Figure size 648x504 with 2 Axes>"
            ],
            "image/png": "[encoded data removed]"
          },
          "metadata": {}
        }
      ],
      "source": [
        "plt.figure(figsize=(9,7))\n",
        "sns.set(style='ticks', font_scale=1.2)\n",
        "sns.heatmap(df_wide, linewidths=1, cmap='Purples')    \n",
        "plt.xticks(rotation=45, ha='right')\n",
        "plt.tight_layout()\n",
        "plt.show()"
      ]
    },
    {
      "cell_type": "code",
      "execution_count": 81,
      "id": "9fe67a08-9fdb-4e72-a6ed-0fa2a4b1fdbb",
      "metadata": {
        "id": "9fe67a08-9fdb-4e72-a6ed-0fa2a4b1fdbb"
      },
      "outputs": [],
      "source": [
        "# Remove the diagonal from the plot to highlight the misclassifications\n",
        "\n",
        "genre_classifications_dict = defaultdict(int)\n",
        "for _true_label, _predicted_label in zip(test_labels, predicted_labels):\n",
        "    if _true_label != _predicted_label: # Remove the diagonal to highlight misclassifications\n",
        "        genre_classifications_dict[(_true_label, _predicted_label)] += 1\n",
        "  \n",
        "dicts_to_plot = []\n",
        "for (_true_genre, _predicted_genre), _count in genre_classifications_dict.items():\n",
        "    dicts_to_plot.append({'True Genre': _true_genre,\n",
        "                        'Predicted Genre': _predicted_genre,\n",
        "                        'Number of Classifications': _count})\n",
        "  \n",
        "df_to_plot = pd.DataFrame(dicts_to_plot)\n",
        "df_wide = df_to_plot.pivot_table(index='True Genre', \n",
        "                                 columns='Predicted Genre', \n",
        "                                 values='Number of Classifications')"
      ]
    },
    {
      "cell_type": "code",
      "execution_count": 82,
      "id": "371feab1-05ac-4c25-9080-2b525e730111",
      "metadata": {
        "id": "371feab1-05ac-4c25-9080-2b525e730111",
        "outputId": "84e08820-1e80-42a3-f7f9-3622a65ac5da",
        "colab": {
          "base_uri": "https://localhost:8080/",
          "height": 504
        }
      },
      "outputs": [
        {
          "output_type": "display_data",
          "data": {
            "text/plain": [
              "<Figure size 648x504 with 2 Axes>"
            ],
            "image/png": "[encoded data removed]"
          },
          "metadata": {}
        }
      ],
      "source": [
        "plt.figure(figsize=(9,7))\n",
        "sns.set(style='ticks', font_scale=1.2)\n",
        "sns.heatmap(df_wide, linewidths=1, cmap='Purples')    \n",
        "plt.xticks(rotation=45, ha='right')\n",
        "plt.tight_layout()\n",
        "plt.show()"
      ]
    },
    {
      "cell_type": "code",
      "execution_count": null,
      "id": "5fb1d65d-f71f-4026-8346-e7cc5a8d1c9a",
      "metadata": {
        "id": "5fb1d65d-f71f-4026-8346-e7cc5a8d1c9a"
      },
      "outputs": [],
      "source": []
    },
    {
      "cell_type": "code",
      "execution_count": null,
      "id": "773f557b-0a96-472c-a228-b91ba8ec2b2a",
      "metadata": {
        "id": "773f557b-0a96-472c-a228-b91ba8ec2b2a"
      },
      "outputs": [],
      "source": []
    },
    {
      "cell_type": "code",
      "execution_count": null,
      "id": "4b3b4f17-0f90-400c-a818-ca18369e2d27",
      "metadata": {
        "id": "4b3b4f17-0f90-400c-a818-ca18369e2d27"
      },
      "outputs": [],
      "source": []
    }
  ],
  "metadata": {
    "kernelspec": {
      "display_name": "Python 3",
      "language": "python",
      "name": "python3"
    },
    "language_info": {
      "codemirror_mode": {
        "name": "ipython",
        "version": 3
      },
      "file_extension": ".py",
      "mimetype": "text/x-python",
      "name": "python",
      "nbconvert_exporter": "python",
      "pygments_lexer": "ipython3",
      "version": "3.8.8"
    },
    "colab": {
      "provenance": []
    },
    "accelerator": "GPU",
    "gpuClass": "standard"
  },
  "nbformat": 4,
  "nbformat_minor": 5
}